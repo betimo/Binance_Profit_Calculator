{
 "cells": [
  {
   "cell_type": "markdown",
   "metadata": {},
   "source": [
    "# Binance Profit Calculator \n",
    "`Written by @cryptoDey94 (telegram)` <br/>\n",
    "Donations Appreciated :)<br/>\n",
    "BTC Address: 1MLadoaCujyjXZUfbKR4greXiR84SaH4T8 <br/>\n",
    "\n",
    "## Designed for use with [Gunbot](https://github.com/GuntharDeNiro/BTCT/wiki), but will work for any binance trading history. \n",
    "\n",
    "\n",
    "# Usage Instructions\n",
    "\n",
    "\n",
    "## Download trading history from Binance\n",
    "\n",
    "Log on to Binance and navigate to `Orders` -> `Trade History`. On the top right should be an option `Export complete trade history`. Click on that, chose a time period, and download the excel file. Make sure this .ipynb fle is in the same folder as `TradeHistory.xlsx`. (If filename is different than that, change the filename in the below cell). No personal information is contained in the trading history excel file."
   ]
  },
  {
   "cell_type": "code",
   "execution_count": 1,
   "metadata": {
    "collapsed": true
   },
   "outputs": [],
   "source": [
    "filename = 'TradeHistory.xlsx'"
   ]
  },
  {
   "cell_type": "markdown",
   "metadata": {},
   "source": [
    "## Run this file\n",
    "\n",
    "#### Traditional Way\n",
    "To run this file, I reccomend using Anaconda Navigator. To download, click the link below. Then open Anaconda Navigator, and click `Launch` under `Jupyter notebook`. Your browser will open with a screen to select which .ipynb file to open. Download and open this one, but before running, finish reading instructions. \n",
    "https://www.anaconda.com/download/\n",
    "\n",
    "#### Easy way (Recommended)\n",
    "Create an empty github repository for free, and just upload your `TradingHistory.xlsx` file and this .ipynb file to your github repo. Since github will only run this once, to update the results, simply change the file name and re upload it to github. Then github will detect it as a new file and re calculate. :)\n",
    "\n",
    "## Notes on the program\n",
    "\n",
    "The program calculates profits based on round-trip trades in the given time period. That is, for each coin pair, any sells that come before any buys and any buys that come after any sells will not be calculated. Thus, only full trades (trades that contain a buy and a sell) will be calcuated for profit. This is the most accurate way to determine how much profit you accumulated in the given time period.\n",
    "\n",
    "The program calculates fees based on BNB. If you do not use BNB for fees, A. You should since its half the cost and B. you need to set the variable `use_fees` below to `False`. Note, this will calculate total revenue instead of total profit. "
   ]
  },
  {
   "cell_type": "code",
   "execution_count": 2,
   "metadata": {
    "collapsed": true
   },
   "outputs": [],
   "source": [
    "use_fees = True"
   ]
  },
  {
   "cell_type": "code",
   "execution_count": 3,
   "metadata": {},
   "outputs": [
    {
     "name": "stdout",
     "output_type": "stream",
     "text": [
      "\n",
      "\n",
      "Will calculate profit from 04:39 AM on March 21, 2018 to 03:24 AM on March 22, 2018\n",
      "\n",
      "\n",
      "Successfully Imported Excel File. Printing first 10 rows...\n"
     ]
    },
    {
     "data": {
      "text/html": [
       "<div>\n",
       "<style scoped>\n",
       "    .dataframe tbody tr th:only-of-type {\n",
       "        vertical-align: middle;\n",
       "    }\n",
       "\n",
       "    .dataframe tbody tr th {\n",
       "        vertical-align: top;\n",
       "    }\n",
       "\n",
       "    .dataframe thead th {\n",
       "        text-align: right;\n",
       "    }\n",
       "</style>\n",
       "<table border=\"1\" class=\"dataframe\">\n",
       "  <thead>\n",
       "    <tr style=\"text-align: right;\">\n",
       "      <th></th>\n",
       "      <th>Date</th>\n",
       "      <th>Market</th>\n",
       "      <th>Type</th>\n",
       "      <th>Price</th>\n",
       "      <th>Amount</th>\n",
       "      <th>Total</th>\n",
       "      <th>Fee</th>\n",
       "      <th>Fee Coin</th>\n",
       "    </tr>\n",
       "  </thead>\n",
       "  <tbody>\n",
       "    <tr>\n",
       "      <th>0</th>\n",
       "      <td>2018-03-22 03:24:49</td>\n",
       "      <td>XLMBTC</td>\n",
       "      <td>SELL</td>\n",
       "      <td>0.000028</td>\n",
       "      <td>87.00</td>\n",
       "      <td>0.002453</td>\n",
       "      <td>0.001093</td>\n",
       "      <td>BNB</td>\n",
       "    </tr>\n",
       "    <tr>\n",
       "      <th>1</th>\n",
       "      <td>2018-03-22 03:24:49</td>\n",
       "      <td>XLMBTC</td>\n",
       "      <td>SELL</td>\n",
       "      <td>0.000028</td>\n",
       "      <td>708.00</td>\n",
       "      <td>0.019959</td>\n",
       "      <td>0.008943</td>\n",
       "      <td>BNB</td>\n",
       "    </tr>\n",
       "    <tr>\n",
       "      <th>2</th>\n",
       "      <td>2018-03-22 03:24:46</td>\n",
       "      <td>XLMBTC</td>\n",
       "      <td>SELL</td>\n",
       "      <td>0.000028</td>\n",
       "      <td>414.00</td>\n",
       "      <td>0.011671</td>\n",
       "      <td>0.005229</td>\n",
       "      <td>BNB</td>\n",
       "    </tr>\n",
       "    <tr>\n",
       "      <th>3</th>\n",
       "      <td>2018-03-22 03:24:46</td>\n",
       "      <td>XLMBTC</td>\n",
       "      <td>SELL</td>\n",
       "      <td>0.000028</td>\n",
       "      <td>354.00</td>\n",
       "      <td>0.009979</td>\n",
       "      <td>0.004476</td>\n",
       "      <td>BNB</td>\n",
       "    </tr>\n",
       "    <tr>\n",
       "      <th>4</th>\n",
       "      <td>2018-03-22 03:24:36</td>\n",
       "      <td>XLMBTC</td>\n",
       "      <td>SELL</td>\n",
       "      <td>0.000028</td>\n",
       "      <td>414.00</td>\n",
       "      <td>0.011671</td>\n",
       "      <td>0.005224</td>\n",
       "      <td>BNB</td>\n",
       "    </tr>\n",
       "    <tr>\n",
       "      <th>5</th>\n",
       "      <td>2018-03-22 03:24:34</td>\n",
       "      <td>XLMBTC</td>\n",
       "      <td>SELL</td>\n",
       "      <td>0.000028</td>\n",
       "      <td>265.00</td>\n",
       "      <td>0.007470</td>\n",
       "      <td>0.003343</td>\n",
       "      <td>BNB</td>\n",
       "    </tr>\n",
       "    <tr>\n",
       "      <th>6</th>\n",
       "      <td>2018-03-22 02:37:32</td>\n",
       "      <td>HSRBTC</td>\n",
       "      <td>SELL</td>\n",
       "      <td>0.000797</td>\n",
       "      <td>79.92</td>\n",
       "      <td>0.063696</td>\n",
       "      <td>0.028501</td>\n",
       "      <td>BNB</td>\n",
       "    </tr>\n",
       "    <tr>\n",
       "      <th>7</th>\n",
       "      <td>2018-03-22 02:31:18</td>\n",
       "      <td>NEOBTC</td>\n",
       "      <td>SELL</td>\n",
       "      <td>0.008267</td>\n",
       "      <td>7.65</td>\n",
       "      <td>0.063243</td>\n",
       "      <td>0.028430</td>\n",
       "      <td>BNB</td>\n",
       "    </tr>\n",
       "    <tr>\n",
       "      <th>8</th>\n",
       "      <td>2018-03-22 02:27:35</td>\n",
       "      <td>HSRBTC</td>\n",
       "      <td>BUY</td>\n",
       "      <td>0.000793</td>\n",
       "      <td>79.92</td>\n",
       "      <td>0.063377</td>\n",
       "      <td>0.028371</td>\n",
       "      <td>BNB</td>\n",
       "    </tr>\n",
       "    <tr>\n",
       "      <th>9</th>\n",
       "      <td>2018-03-22 02:24:17</td>\n",
       "      <td>ADABTC</td>\n",
       "      <td>SELL</td>\n",
       "      <td>0.000024</td>\n",
       "      <td>107.00</td>\n",
       "      <td>0.002550</td>\n",
       "      <td>0.001139</td>\n",
       "      <td>BNB</td>\n",
       "    </tr>\n",
       "  </tbody>\n",
       "</table>\n",
       "</div>"
      ],
      "text/plain": [
       "                  Date  Market  Type     Price  Amount     Total       Fee  \\\n",
       "0  2018-03-22 03:24:49  XLMBTC  SELL  0.000028   87.00  0.002453  0.001093   \n",
       "1  2018-03-22 03:24:49  XLMBTC  SELL  0.000028  708.00  0.019959  0.008943   \n",
       "2  2018-03-22 03:24:46  XLMBTC  SELL  0.000028  414.00  0.011671  0.005229   \n",
       "3  2018-03-22 03:24:46  XLMBTC  SELL  0.000028  354.00  0.009979  0.004476   \n",
       "4  2018-03-22 03:24:36  XLMBTC  SELL  0.000028  414.00  0.011671  0.005224   \n",
       "5  2018-03-22 03:24:34  XLMBTC  SELL  0.000028  265.00  0.007470  0.003343   \n",
       "6  2018-03-22 02:37:32  HSRBTC  SELL  0.000797   79.92  0.063696  0.028501   \n",
       "7  2018-03-22 02:31:18  NEOBTC  SELL  0.008267    7.65  0.063243  0.028430   \n",
       "8  2018-03-22 02:27:35  HSRBTC   BUY  0.000793   79.92  0.063377  0.028371   \n",
       "9  2018-03-22 02:24:17  ADABTC  SELL  0.000024  107.00  0.002550  0.001139   \n",
       "\n",
       "  Fee Coin  \n",
       "0      BNB  \n",
       "1      BNB  \n",
       "2      BNB  \n",
       "3      BNB  \n",
       "4      BNB  \n",
       "5      BNB  \n",
       "6      BNB  \n",
       "7      BNB  \n",
       "8      BNB  \n",
       "9      BNB  "
      ]
     },
     "execution_count": 3,
     "metadata": {},
     "output_type": "execute_result"
    }
   ],
   "source": [
    "import pandas as pd\n",
    "import numpy as np\n",
    "import copy\n",
    "import matplotlib.pyplot as plt\n",
    "import warnings\n",
    "warnings.filterwarnings(\"ignore\")\n",
    "\n",
    "# initialize variables we will need\n",
    "i = 0\n",
    "totalProfit = 0.0\n",
    "rawGroupDfs = {}\n",
    "brokenDf = pd.DataFrame(columns=['Name', 'Total Bought', 'Total Sold', 'Profit', 'Fee'])\n",
    "resultDf = pd.DataFrame(columns=['Name', 'Total Bought', 'Total Sold', 'Profit', 'Fee'])\n",
    "df = pd.read_excel(filename)\n",
    "end = pd.to_datetime(df['Date'].iloc[0]).strftime('%I:%M %p on %B %d, %Y')\n",
    "start = pd.to_datetime(df['Date'].iloc[-1]).strftime('%I:%M %p on %B %d, %Y')\n",
    "print('\\n')\n",
    "print('Will calculate profit from ' + start + ' to ' + end)\n",
    "print('\\n')\n",
    "print('Successfully Imported Excel File. Printing first 10 rows...')\n",
    "df.head(10)"
   ]
  },
  {
   "cell_type": "markdown",
   "metadata": {},
   "source": [
    "The below code sanitizes the data and calculates profits based on the complete trades rules we have set above in `O(n)` time. "
   ]
  },
  {
   "cell_type": "code",
   "execution_count": 4,
   "metadata": {},
   "outputs": [
    {
     "name": "stdout",
     "output_type": "stream",
     "text": [
      "Fixing relative profit for group BTGBTC\n",
      "\n",
      "\n",
      "Fixing relative profit for group DASHBTC\n",
      "\n",
      "\n",
      "Problems calculating group DASHBTC. Total profit not added to final result is: -0.00607825698152425\n",
      "\n",
      "\n",
      "Fixing relative profit for group HSRBTC\n",
      "\n",
      "\n",
      "Problems calculating group IOTABTC. Total profit not added to final result is: -0.004017159999999992\n",
      "\n",
      "\n",
      "Problems calculating group NANOBTC. Total profit not added to final result is: -0.0050424070000000265\n",
      "\n",
      "\n",
      "Fixing relative profit for group NEOBTC\n",
      "\n",
      "\n"
     ]
    }
   ],
   "source": [
    "xls = df.groupby(df['Market'])\n",
    "\n",
    "#loop start - long cell bc all work being calculated in one go AKA O(n)\n",
    "for name, group in xls:\n",
    "    \n",
    "    group = group.sort_values(by=['Date'], ascending=True)\n",
    "    rawGroupDfs[name] = copy.deepcopy(group)\n",
    "    \n",
    "    # Create group dataframes for profit calculations\n",
    "    group_df = pd.DataFrame(columns=['Total Bought', 'Total Sold', 'Profit', 'Fee'])\n",
    "\n",
    "    # Remove sells from top\n",
    "    group = group.reset_index()\n",
    "    for index, row in group.iterrows():\n",
    "        if row['Type'] == 'SELL':\n",
    "            group.drop(index, inplace=True)\n",
    "        else:\n",
    "            break\n",
    "\n",
    "    # Remove buys from bottom\n",
    "    while group['Type'].count() > 0 and group.iloc[-1]['Type'] == 'BUY':\n",
    "        group = group[:-1]\n",
    "\n",
    "\n",
    "    # check for groups that only sold or bought, dont count them\n",
    "    if len(group['Type'].unique()) == 1:\n",
    "        continue\n",
    "        \n",
    "    \n",
    "    # Calculate profits\n",
    "    \n",
    "    totalCostForCurrentGroup = 0.0\n",
    "    totalRevenueForCurrentGroup = 0.0\n",
    "    totalFeeForCurrentGroup = 0.0\n",
    "    totalAmountForBuys = 0.0\n",
    "    totalAmountForSells = 0.0\n",
    "    totalProfitForCurrentGroup = 0.0\n",
    "    for index, row in group.iterrows():\n",
    "        \n",
    "        if row['Type'] == 'BUY':\n",
    "            totalAmountForBuys = totalAmountForBuys + float(row['Amount'])\n",
    "            totalCostForCurrentGroup = totalCostForCurrentGroup + float(row['Total'])\n",
    "            \n",
    "        if row['Type'] == 'SELL':\n",
    "            totalAmountForSells = totalAmountForSells + float(row['Amount'])\n",
    "            totalRevenueForCurrentGroup = totalRevenueForCurrentGroup + float(row['Total'])\n",
    "            \n",
    "        totalFeeForCurrentGroup = totalFeeForCurrentGroup + float(row['Fee'])\n",
    "        totalProfitForCurrentGroup = totalRevenueForCurrentGroup - totalCostForCurrentGroup\n",
    "\n",
    "    # sometimes there is a slight difference in the amount bought / sold \n",
    "    # (maybe limit orders didnt get fully filled in time or owned coins from prev trades)\n",
    "    # We will recalculate profits of those groups to be conservative to the lower amount\n",
    "    \n",
    "    totalProfitForCurrentGroup = totalRevenueForCurrentGroup - totalCostForCurrentGroup\n",
    "    group_df = pd.DataFrame()\n",
    "    \n",
    "    if totalAmountForSells > totalAmountForBuys:\n",
    "        group_df = group_df.set_value(i, 'Only counting', totalAmountForSells if totalAmountForBuys > totalAmountForSells else totalAmountForBuys)\n",
    "        totalProfitForCurrentGroup = totalProfitForCurrentGroup * (totalAmountForBuys / totalAmountForSells)\n",
    "        print('Fixing relative profit for group ' + name)\n",
    "        print('\\n')\n",
    "        \n",
    "    if totalAmountForSells < totalAmountForBuys:\n",
    "        group_df = group_df.set_value(i, 'Only counting', totalAmountForSells if totalAmountForBuys > totalAmountForSells else totalAmountForBuys)        \n",
    "        totalProfitForCurrentGroup = totalProfitForCurrentGroup * (totalAmountForSells / totalAmountForBuys)\n",
    "        print('Fixing relative profit for group ' + name)\n",
    "        print('\\n')\n",
    "\n",
    "    group_df = group_df.set_value(i, 'Total Bought', totalAmountForBuys)\n",
    "    group_df = group_df.set_value(i, 'Total Sold', totalAmountForSells)\n",
    "    group_df = group_df.set_value(i, 'Profit', totalProfitForCurrentGroup)\n",
    "    group_df = group_df.set_value(i, 'Fee', totalFeeForCurrentGroup)\n",
    "    group_df = group_df.set_value(i, 'Name', name)\n",
    "    \n",
    "    if totalProfitForCurrentGroup > 0 :\n",
    "        resultDf = resultDf.append(group_df)\n",
    "    else: \n",
    "        brokenDf = brokenDf.append(group_df)\n",
    "        if totalProfitForCurrentGroup == 0.0:\n",
    "            print('Group ' + name + ' had no round trip trades in this time period')\n",
    "            print('\\n')\n",
    "        else:\n",
    "            print('Problems calculating group ' + name + \n",
    "                  '. Total profit not added to final result is: ' + str(totalProfitForCurrentGroup))\n",
    "            print('\\n')\n",
    "\n",
    "    i = i + 1\n",
    "    \n",
    "#loop over"
   ]
  },
  {
   "cell_type": "code",
   "execution_count": 5,
   "metadata": {},
   "outputs": [
    {
     "name": "stdout",
     "output_type": "stream",
     "text": [
      "Successful calculation of below groups: If -, then that means we are counting all\n"
     ]
    },
    {
     "data": {
      "text/html": [
       "<div>\n",
       "<style scoped>\n",
       "    .dataframe tbody tr th:only-of-type {\n",
       "        vertical-align: middle;\n",
       "    }\n",
       "\n",
       "    .dataframe tbody tr th {\n",
       "        vertical-align: top;\n",
       "    }\n",
       "\n",
       "    .dataframe thead th {\n",
       "        text-align: right;\n",
       "    }\n",
       "</style>\n",
       "<table border=\"1\" class=\"dataframe\">\n",
       "  <thead>\n",
       "    <tr style=\"text-align: right;\">\n",
       "      <th></th>\n",
       "      <th>Fee</th>\n",
       "      <th>Name</th>\n",
       "      <th>Only counting</th>\n",
       "      <th>Profit</th>\n",
       "      <th>Total Bought</th>\n",
       "      <th>Total Sold</th>\n",
       "    </tr>\n",
       "  </thead>\n",
       "  <tbody>\n",
       "    <tr>\n",
       "      <th>0</th>\n",
       "      <td>0.290421</td>\n",
       "      <td>ADABTC</td>\n",
       "      <td>-</td>\n",
       "      <td>0.000805</td>\n",
       "      <td>13363.000</td>\n",
       "      <td>13363.000</td>\n",
       "    </tr>\n",
       "    <tr>\n",
       "      <th>1</th>\n",
       "      <td>0.117382</td>\n",
       "      <td>BTGBTC</td>\n",
       "      <td>17.39</td>\n",
       "      <td>0.001595</td>\n",
       "      <td>17.400</td>\n",
       "      <td>17.390</td>\n",
       "    </tr>\n",
       "    <tr>\n",
       "      <th>3</th>\n",
       "      <td>0.115586</td>\n",
       "      <td>ETCBTC</td>\n",
       "      <td>-</td>\n",
       "      <td>0.000296</td>\n",
       "      <td>55.310</td>\n",
       "      <td>55.310</td>\n",
       "    </tr>\n",
       "    <tr>\n",
       "      <th>4</th>\n",
       "      <td>0.057562</td>\n",
       "      <td>ETHBTC</td>\n",
       "      <td>-</td>\n",
       "      <td>0.000737</td>\n",
       "      <td>1.002</td>\n",
       "      <td>1.002</td>\n",
       "    </tr>\n",
       "    <tr>\n",
       "      <th>5</th>\n",
       "      <td>0.232713</td>\n",
       "      <td>HSRBTC</td>\n",
       "      <td>333.6</td>\n",
       "      <td>0.007620</td>\n",
       "      <td>333.600</td>\n",
       "      <td>333.610</td>\n",
       "    </tr>\n",
       "    <tr>\n",
       "      <th>6</th>\n",
       "      <td>0.354779</td>\n",
       "      <td>ICXBTC</td>\n",
       "      <td>-</td>\n",
       "      <td>0.015176</td>\n",
       "      <td>1049.950</td>\n",
       "      <td>1049.950</td>\n",
       "    </tr>\n",
       "    <tr>\n",
       "      <th>8</th>\n",
       "      <td>0.057226</td>\n",
       "      <td>LTCBTC</td>\n",
       "      <td>-</td>\n",
       "      <td>0.000046</td>\n",
       "      <td>3.310</td>\n",
       "      <td>3.310</td>\n",
       "    </tr>\n",
       "    <tr>\n",
       "      <th>10</th>\n",
       "      <td>0.173209</td>\n",
       "      <td>NEOBTC</td>\n",
       "      <td>22.76</td>\n",
       "      <td>0.001060</td>\n",
       "      <td>22.760</td>\n",
       "      <td>22.760</td>\n",
       "    </tr>\n",
       "    <tr>\n",
       "      <th>11</th>\n",
       "      <td>0.170427</td>\n",
       "      <td>QTUMBTC</td>\n",
       "      <td>-</td>\n",
       "      <td>0.000297</td>\n",
       "      <td>84.900</td>\n",
       "      <td>84.900</td>\n",
       "    </tr>\n",
       "    <tr>\n",
       "      <th>12</th>\n",
       "      <td>0.178480</td>\n",
       "      <td>WTCBTC</td>\n",
       "      <td>-</td>\n",
       "      <td>0.002334</td>\n",
       "      <td>118.020</td>\n",
       "      <td>118.020</td>\n",
       "    </tr>\n",
       "    <tr>\n",
       "      <th>13</th>\n",
       "      <td>0.230734</td>\n",
       "      <td>XLMBTC</td>\n",
       "      <td>-</td>\n",
       "      <td>0.001808</td>\n",
       "      <td>8899.000</td>\n",
       "      <td>8899.000</td>\n",
       "    </tr>\n",
       "    <tr>\n",
       "      <th>14</th>\n",
       "      <td>0.113353</td>\n",
       "      <td>XRPBTC</td>\n",
       "      <td>-</td>\n",
       "      <td>0.000033</td>\n",
       "      <td>1657.000</td>\n",
       "      <td>1657.000</td>\n",
       "    </tr>\n",
       "  </tbody>\n",
       "</table>\n",
       "</div>"
      ],
      "text/plain": [
       "         Fee     Name Only counting    Profit  Total Bought  Total Sold\n",
       "0   0.290421   ADABTC             -  0.000805     13363.000   13363.000\n",
       "1   0.117382   BTGBTC         17.39  0.001595        17.400      17.390\n",
       "3   0.115586   ETCBTC             -  0.000296        55.310      55.310\n",
       "4   0.057562   ETHBTC             -  0.000737         1.002       1.002\n",
       "5   0.232713   HSRBTC         333.6  0.007620       333.600     333.610\n",
       "6   0.354779   ICXBTC             -  0.015176      1049.950    1049.950\n",
       "8   0.057226   LTCBTC             -  0.000046         3.310       3.310\n",
       "10  0.173209   NEOBTC         22.76  0.001060        22.760      22.760\n",
       "11  0.170427  QTUMBTC             -  0.000297        84.900      84.900\n",
       "12  0.178480   WTCBTC             -  0.002334       118.020     118.020\n",
       "13  0.230734   XLMBTC             -  0.001808      8899.000    8899.000\n",
       "14  0.113353   XRPBTC             -  0.000033      1657.000    1657.000"
      ]
     },
     "execution_count": 5,
     "metadata": {},
     "output_type": "execute_result"
    }
   ],
   "source": [
    "print('Successful calculation of below groups: If -, then that means we are counting all')\n",
    "resultDf.fillna('-')"
   ]
  },
  {
   "cell_type": "code",
   "execution_count": 6,
   "metadata": {
    "collapsed": true
   },
   "outputs": [],
   "source": [
    "profitDf = pd.DataFrame(columns=['Total Profit BTC', 'Total Fees BNB'])\n",
    "profitDf['Total Profit BTC'] = [resultDf['Profit'].sum()]\n",
    "profitDf['Total Fees BNB'] = [resultDf['Fee'].sum()]\n",
    "profitDf.index = ['Total']"
   ]
  },
  {
   "cell_type": "code",
   "execution_count": 7,
   "metadata": {},
   "outputs": [
    {
     "name": "stdout",
     "output_type": "stream",
     "text": [
      "These were not added to final result. If all 0, then no round trip trades for these groups exist in the given time period. If running many pairs, this is expected.\n"
     ]
    },
    {
     "data": {
      "text/html": [
       "<div>\n",
       "<style scoped>\n",
       "    .dataframe tbody tr th:only-of-type {\n",
       "        vertical-align: middle;\n",
       "    }\n",
       "\n",
       "    .dataframe tbody tr th {\n",
       "        vertical-align: top;\n",
       "    }\n",
       "\n",
       "    .dataframe thead th {\n",
       "        text-align: right;\n",
       "    }\n",
       "</style>\n",
       "<table border=\"1\" class=\"dataframe\">\n",
       "  <thead>\n",
       "    <tr style=\"text-align: right;\">\n",
       "      <th></th>\n",
       "      <th>Fee</th>\n",
       "      <th>Name</th>\n",
       "      <th>Only counting</th>\n",
       "      <th>Profit</th>\n",
       "      <th>Total Bought</th>\n",
       "      <th>Total Sold</th>\n",
       "    </tr>\n",
       "  </thead>\n",
       "  <tbody>\n",
       "    <tr>\n",
       "      <th>2</th>\n",
       "      <td>0.030930</td>\n",
       "      <td>DASHBTC</td>\n",
       "      <td>0.141</td>\n",
       "      <td>-0.006078</td>\n",
       "      <td>1.299</td>\n",
       "      <td>0.141</td>\n",
       "    </tr>\n",
       "    <tr>\n",
       "      <th>7</th>\n",
       "      <td>0.114212</td>\n",
       "      <td>IOTABTC</td>\n",
       "      <td>NaN</td>\n",
       "      <td>-0.004017</td>\n",
       "      <td>796.000</td>\n",
       "      <td>796.000</td>\n",
       "    </tr>\n",
       "    <tr>\n",
       "      <th>9</th>\n",
       "      <td>0.285142</td>\n",
       "      <td>NANOBTC</td>\n",
       "      <td>NaN</td>\n",
       "      <td>-0.005042</td>\n",
       "      <td>313.360</td>\n",
       "      <td>313.360</td>\n",
       "    </tr>\n",
       "  </tbody>\n",
       "</table>\n",
       "</div>"
      ],
      "text/plain": [
       "        Fee     Name  Only counting    Profit  Total Bought  Total Sold\n",
       "2  0.030930  DASHBTC          0.141 -0.006078         1.299       0.141\n",
       "7  0.114212  IOTABTC            NaN -0.004017       796.000     796.000\n",
       "9  0.285142  NANOBTC            NaN -0.005042       313.360     313.360"
      ]
     },
     "execution_count": 7,
     "metadata": {},
     "output_type": "execute_result"
    }
   ],
   "source": [
    "print('These were not added to final result. If all 0, then no round trip trades for these groups exist in the given time period. If running many pairs, this is expected.')\n",
    "brokenDf"
   ]
  },
  {
   "cell_type": "code",
   "execution_count": 8,
   "metadata": {
    "collapsed": true
   },
   "outputs": [],
   "source": [
    "#USD Profits\n",
    "usProfitDf = pd.DataFrame(index=[8000, 10000, 12000, 15000, 20000, 25000, 50000, 100000], \n",
    "                          columns=['USD Profit if cost of BTC is ...'])\n",
    "usProfitDf['USD Profit if cost of BTC is ...'] = usProfitDf.index * resultDf['Profit'].sum()\n",
    "usProfitDf.index.name = 'Price BTC'"
   ]
  },
  {
   "cell_type": "code",
   "execution_count": 9,
   "metadata": {
    "collapsed": true
   },
   "outputs": [],
   "source": [
    "# Get profit in USD from real time BTC price from coinmarketcap\n",
    "\n",
    "import requests\n",
    "\n",
    "response = requests.get('https://api.coinmarketcap.com/v1/ticker/bitcoin/') \n",
    "response2 = requests.get('https://api.coinmarketcap.com/v1/ticker/binance-coin/') \n",
    "realTimeProfitDf = pd.DataFrame(index=['Total'])\n",
    "if use_fees:\n",
    "    realTimeProfitDf['USD Profit if cost of BTC is ...'] = float(response.json()[0]['price_usd']) * resultDf['Profit'].sum() - float(response2.json()[0]['price_usd']) * resultDf['Fee'].sum()\n",
    "else:\n",
    "    realTimeProfitDf['USD Profit if cost of BTC is ...'] = float(response.json()[0]['price_usd']) * resultDf['Profit'].sum()"
   ]
  },
  {
   "cell_type": "code",
   "execution_count": 10,
   "metadata": {},
   "outputs": [
    {
     "data": {
      "text/html": [
       "<div>\n",
       "<style scoped>\n",
       "    .dataframe tbody tr th:only-of-type {\n",
       "        vertical-align: middle;\n",
       "    }\n",
       "\n",
       "    .dataframe tbody tr th {\n",
       "        vertical-align: top;\n",
       "    }\n",
       "\n",
       "    .dataframe thead th {\n",
       "        text-align: right;\n",
       "    }\n",
       "</style>\n",
       "<table border=\"1\" class=\"dataframe\">\n",
       "  <thead>\n",
       "    <tr style=\"text-align: right;\">\n",
       "      <th></th>\n",
       "      <th>Total Profit BTC</th>\n",
       "      <th>Total Fees BNB</th>\n",
       "    </tr>\n",
       "  </thead>\n",
       "  <tbody>\n",
       "    <tr>\n",
       "      <th>Total</th>\n",
       "      <td>0.031807</td>\n",
       "      <td>2.091872</td>\n",
       "    </tr>\n",
       "  </tbody>\n",
       "</table>\n",
       "</div>"
      ],
      "text/plain": [
       "       Total Profit BTC  Total Fees BNB\n",
       "Total          0.031807        2.091872"
      ]
     },
     "execution_count": 10,
     "metadata": {},
     "output_type": "execute_result"
    }
   ],
   "source": [
    "profitDf"
   ]
  },
  {
   "cell_type": "code",
   "execution_count": 11,
   "metadata": {},
   "outputs": [
    {
     "name": "stdout",
     "output_type": "stream",
     "text": [
      "           USD Profit if cost of BTC is ...\n",
      "Price BTC                                  \n",
      "8000                                $254.46\n",
      "10000                               $318.07\n",
      "12000                               $381.69\n",
      "15000                               $477.11\n",
      "20000                               $636.14\n",
      "25000                               $795.18\n",
      "50000                             $1,590.36\n",
      "100000                            $3,180.72\n"
     ]
    }
   ],
   "source": [
    "pd.options.display.float_format = '${:,.2f}'.format\n",
    "print(usProfitDf.to_string(index=True))"
   ]
  },
  {
   "cell_type": "code",
   "execution_count": 12,
   "metadata": {},
   "outputs": [
    {
     "data": {
      "image/png": "[encoded data removed]",
      "text/plain": [
       "<matplotlib.figure.Figure at 0x115f13160>"
      ]
     },
     "metadata": {},
     "output_type": "display_data"
    },
    {
     "name": "stdout",
     "output_type": "stream",
     "text": [
      "Name  USD Profit\n",
      " ICXBTC     $137.25\n",
      " HSRBTC      $68.91\n",
      " WTCBTC      $21.11\n",
      " XLMBTC      $16.35\n",
      " BTGBTC      $14.43\n",
      " NEOBTC       $9.59\n",
      " ADABTC       $7.28\n",
      " ETHBTC       $6.66\n",
      "QTUMBTC       $2.69\n",
      " ETCBTC       $2.68\n",
      " LTCBTC       $0.42\n",
      " XRPBTC       $0.30\n"
     ]
    }
   ],
   "source": [
    "resultDf['USD Profit'] = (float(response.json()[0]['price_usd']) * resultDf['Profit'])\n",
    "resultDf = resultDf.sort_values(by='USD Profit', ascending=False)\n",
    "ax = resultDf.plot(x='Name', y='USD Profit', kind='bar', figsize=(16,7), title='Proft in USD per pair')\n",
    "plt.show()\n",
    "finalDf = pd.DataFrame(resultDf[['Name','USD Profit']], index=None)\n",
    "\n",
    "print(finalDf.to_string(index=False))"
   ]
  },
  {
   "cell_type": "code",
   "execution_count": 13,
   "metadata": {},
   "outputs": [
    {
     "name": "stdout",
     "output_type": "stream",
     "text": [
      "\n",
      "\n",
      "Current Bitcoin Price as of 12:28 AM on March 22, 2018 is: $9,044.02\n",
      "\n",
      "\n"
     ]
    }
   ],
   "source": [
    "import datetime as datetime\n",
    "print('\\n')\n",
    "print ('Current Bitcoin Price as of ' + datetime.datetime.now().strftime('%I:%M %p on %B %d, %Y') + ' is: ' + \"${:,.2f}\".format(float(response.json()[0]['price_usd'])))\n",
    "print('\\n')"
   ]
  },
  {
   "cell_type": "code",
   "execution_count": 14,
   "metadata": {},
   "outputs": [
    {
     "name": "stdout",
     "output_type": "stream",
     "text": [
      "\n",
      "\n",
      "Fee's from BNB 04:39 AM on March 21, 2018 to 03:24 AM on March 22, 2018 currently costs $21.19 in USD.\n",
      "\n",
      "\n"
     ]
    },
    {
     "data": {
      "text/html": [
       "<div>\n",
       "<style scoped>\n",
       "    .dataframe tbody tr th:only-of-type {\n",
       "        vertical-align: middle;\n",
       "    }\n",
       "\n",
       "    .dataframe tbody tr th {\n",
       "        vertical-align: top;\n",
       "    }\n",
       "\n",
       "    .dataframe thead th {\n",
       "        text-align: right;\n",
       "    }\n",
       "</style>\n",
       "<table border=\"1\" class=\"dataframe\">\n",
       "  <thead>\n",
       "    <tr style=\"text-align: right;\">\n",
       "      <th></th>\n",
       "      <th>Profit from 04:39 AM on March 21, 2018 to 03:24 AM on March 22, 2018 in USD</th>\n",
       "    </tr>\n",
       "  </thead>\n",
       "  <tbody>\n",
       "    <tr>\n",
       "      <th>Total</th>\n",
       "      <td>$266.48</td>\n",
       "    </tr>\n",
       "  </tbody>\n",
       "</table>\n",
       "</div>"
      ],
      "text/plain": [
       "       Profit from 04:39 AM on March 21, 2018 to 03:24 AM on March 22, 2018 in USD\n",
       "Total                                            $266.48                          "
      ]
     },
     "execution_count": 14,
     "metadata": {},
     "output_type": "execute_result"
    }
   ],
   "source": [
    "feeCost = float(response2.json()[0]['price_usd']) * float(resultDf['Fee'].sum())\n",
    "label = str('Profit from ' + str(start) + ' to ' + str(end) + ' in USD')\n",
    "realTimeProfitDf.columns=[label]\n",
    "print('\\n')\n",
    "print(str('Fee\\'s from BNB ' + str(start) + ' to ' + str(end) + ' currently costs ' + \"${:,.2f}\".format(feeCost) + ' in USD.'))\n",
    "print('\\n')\n",
    "realTimeProfitDf"
   ]
  },
  {
   "cell_type": "code",
   "execution_count": 15,
   "metadata": {},
   "outputs": [
    {
     "name": "stdout",
     "output_type": "stream",
     "text": [
      "Average profit per minute is $0.10 or 0.000011524363913 BTC.\n",
      "Average profit per hour is $6.25 or 0.000691461834774 BTC.\n",
      "Average daily profit is $287.67 or 0.031807244399626 BTC.\n"
     ]
    }
   ],
   "source": [
    "end = pd.to_datetime(df['Date'].iloc[0])\n",
    "start = pd.to_datetime(df['Date'].iloc[-1])\n",
    "\n",
    "diff = end - start\n",
    "\n",
    "days, seconds = diff.days, diff.seconds\n",
    "if days == 0:\n",
    "    days = 1\n",
    "hours = days * 24.0 + seconds // 3600.0\n",
    "minutes = hours * 60.0\n",
    "\n",
    "priceBTC = float(response.json()[0]['price_usd'])\n",
    "avgProfMin = resultDf['Profit'].sum() * priceBTC / minutes\n",
    "avgProfHour = resultDf['Profit'].sum() * priceBTC / hours\n",
    "avgProfDay = resultDf['Profit'].sum() * (priceBTC / days)\n",
    "\n",
    "btcProfit = resultDf['Profit'].sum()\n",
    "print('Average profit per minute is ' \"${:,.2f}\".format(avgProfMin) + ' or ' + \"{:,.15f}\".format(btcProfit/minutes) + ' BTC.')\n",
    "print('Average profit per hour is ' \"${:,.2f}\".format(avgProfHour) + ' or ' + \"{:,.15f}\".format(btcProfit/hours) + ' BTC.')\n",
    "print('Average daily profit is ' \"${:,.2f}\".format(avgProfDay) + ' or ' + \"{:,.15f}\".format(btcProfit/days) + ' BTC.')"
   ]
  },
  {
   "cell_type": "code",
   "execution_count": 16,
   "metadata": {
    "collapsed": true
   },
   "outputs": [],
   "source": [
    "# pd.options.display.float_format = '{:,.10f}'.format\n",
    "\n",
    "\n",
    "# rawGroupDfs['XVGBTC']"
   ]
  },
  {
   "cell_type": "code",
   "execution_count": null,
   "metadata": {
    "collapsed": true
   },
   "outputs": [],
   "source": []
  }
 ],
 "metadata": {
  "kernelspec": {
   "display_name": "Python 3",
   "language": "python",
   "name": "python3"
  },
  "language_info": {
   "codemirror_mode": {
    "name": "ipython",
    "version": 3
   },
   "file_extension": ".py",
   "mimetype": "text/x-python",
   "name": "python",
   "nbconvert_exporter": "python",
   "pygments_lexer": "ipython3",
   "version": "3.6.3"
  }
 },
 "nbformat": 4,
 "nbformat_minor": 2
}
